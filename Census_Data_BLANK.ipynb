{
 "cells": [
  {
   "cell_type": "code",
   "execution_count": 1,
   "id": "d7c785b3",
   "metadata": {},
   "outputs": [],
   "source": [
    "from datascience import *\n",
    "import numpy as np\n",
    "%matplotlib inline\n",
    "import matplotlib.pyplot as plots\n",
    "plots.style.use(\"fivethirtyeight\")"
   ]
  },
  {
   "cell_type": "code",
   "execution_count": null,
   "id": "d9c29a06",
   "metadata": {},
   "outputs": [],
   "source": [
    "full = "
   ]
  },
  {
   "cell_type": "code",
   "execution_count": null,
   "id": "8c98c5ff",
   "metadata": {},
   "outputs": [],
   "source": [
    "partial ="
   ]
  },
  {
   "cell_type": "code",
   "execution_count": null,
   "id": "18ba10b1",
   "metadata": {},
   "outputs": [],
   "source": [
    "#Relabel the pop estimate columns\n",
    "simple = "
   ]
  },
  {
   "cell_type": "code",
   "execution_count": null,
   "id": "7ffddea7",
   "metadata": {},
   "outputs": [],
   "source": [
    "#Relabeling columns using column index\n",
    "simple = "
   ]
  },
  {
   "cell_type": "code",
   "execution_count": null,
   "id": "278189e4",
   "metadata": {},
   "outputs": [],
   "source": []
  },
  {
   "cell_type": "code",
   "execution_count": null,
   "id": "a29762a6",
   "metadata": {},
   "outputs": [],
   "source": [
    "no_999 = "
   ]
  },
  {
   "cell_type": "code",
   "execution_count": null,
   "id": "a7e0df67",
   "metadata": {},
   "outputs": [],
   "source": [
    "everyone = \n",
    "males = \n",
    "females = "
   ]
  },
  {
   "cell_type": "markdown",
   "id": "5339ff6f",
   "metadata": {},
   "source": [
    "Plot of US Population in 2019 for all ages"
   ]
  },
  {
   "cell_type": "code",
   "execution_count": null,
   "id": "32eaf5a5",
   "metadata": {},
   "outputs": [],
   "source": [
    "# Lets make a plot for the overall population over age in year 2019\n"
   ]
  },
  {
   "cell_type": "code",
   "execution_count": null,
   "id": "002d0b4c",
   "metadata": {},
   "outputs": [],
   "source": [
    "#If you want to add a title\n"
   ]
  },
  {
   "cell_type": "code",
   "execution_count": null,
   "id": "c9ef195c",
   "metadata": {},
   "outputs": [],
   "source": [
    "# To add the data points on the line plot\n"
   ]
  },
  {
   "cell_type": "code",
   "execution_count": null,
   "id": "a3fa2aa2",
   "metadata": {},
   "outputs": [],
   "source": [
    "# To make an interactive plot\n"
   ]
  },
  {
   "cell_type": "markdown",
   "id": "2cf208ed",
   "metadata": {},
   "source": [
    "### Compare the population trends in 2010 and 2019 for Everyone"
   ]
  },
  {
   "cell_type": "code",
   "execution_count": null,
   "id": "c8da577f",
   "metadata": {},
   "outputs": [],
   "source": [
    "everyone.plot('AGE')"
   ]
  },
  {
   "cell_type": "code",
   "execution_count": null,
   "id": "63d25786",
   "metadata": {},
   "outputs": [],
   "source": [
    "#Using the no_999 table, create a table that displayes the TOTAL population for SEX = 0, 1 and 2 for 2010 and 2019. Hint: Use the .group method\n"
   ]
  },
  {
   "cell_type": "markdown",
   "id": "976baaca",
   "metadata": {},
   "source": [
    "Create a table called \"infants\" with only inidviduals less than 5 years old and has the population for both males and females. Then use the table to find the total population for males and females over the age groups."
   ]
  },
  {
   "cell_type": "code",
   "execution_count": null,
   "id": "1dfd6fd4",
   "metadata": {},
   "outputs": [],
   "source": [
    "infants="
   ]
  },
  {
   "cell_type": "code",
   "execution_count": null,
   "id": "5cdb81a5",
   "metadata": {},
   "outputs": [],
   "source": [
    "plot_data = "
   ]
  },
  {
   "cell_type": "markdown",
   "id": "6e9db69f",
   "metadata": {},
   "source": [
    "Find the change in population using the table no_999 from 2010 to 2019. First find the difference in population between 2019 and 2010. Next divide the difference by population in 2010 and convert to percent."
   ]
  },
  {
   "cell_type": "code",
   "execution_count": null,
   "id": "f226e25d",
   "metadata": {},
   "outputs": [],
   "source": [
    "change = "
   ]
  },
  {
   "cell_type": "code",
   "execution_count": null,
   "id": "c4a00939",
   "metadata": {},
   "outputs": [],
   "source": [
    "us_pop_change = "
   ]
  },
  {
   "cell_type": "code",
   "execution_count": null,
   "id": "ba1596d8",
   "metadata": {},
   "outputs": [],
   "source": [
    "#Find the age that saw the largest and smallest change in population\n"
   ]
  },
  {
   "cell_type": "code",
   "execution_count": null,
   "id": "dc38148c",
   "metadata": {},
   "outputs": [],
   "source": []
  },
  {
   "cell_type": "markdown",
   "id": "fef5635c",
   "metadata": {},
   "source": [
    "### Compare males and females for 2019"
   ]
  },
  {
   "cell_type": "code",
   "execution_count": null,
   "id": "ab888b63",
   "metadata": {},
   "outputs": [],
   "source": [
    "# Let's compare male and female counts per age\n",
    "males = \n",
    "females = "
   ]
  },
  {
   "cell_type": "code",
   "execution_count": null,
   "id": "72666ed9",
   "metadata": {},
   "outputs": [],
   "source": [
    "pop_2019 = "
   ]
  },
  {
   "cell_type": "code",
   "execution_count": null,
   "id": "fa7c226c",
   "metadata": {},
   "outputs": [],
   "source": []
  },
  {
   "cell_type": "code",
   "execution_count": null,
   "id": "97dab8f2",
   "metadata": {},
   "outputs": [],
   "source": [
    "# Calculate the percent female for each age\n"
   ]
  },
  {
   "cell_type": "code",
   "execution_count": null,
   "id": "8f99b505",
   "metadata": {},
   "outputs": [],
   "source": [
    "# Round it to 3 so that it's easier to read\n",
    "pct_female = "
   ]
  },
  {
   "cell_type": "code",
   "execution_count": null,
   "id": "9bab6b25",
   "metadata": {},
   "outputs": [],
   "source": [
    "# Add female percent to our table\n",
    "pop_2019 = "
   ]
  },
  {
   "cell_type": "code",
   "execution_count": null,
   "id": "766f9bb0",
   "metadata": {},
   "outputs": [],
   "source": []
  },
  {
   "cell_type": "code",
   "execution_count": null,
   "id": "9840e262",
   "metadata": {},
   "outputs": [],
   "source": [
    "# ^^ Look at the y-axis! Trend is not as dramatic as you might think\n"
   ]
  },
  {
   "cell_type": "markdown",
   "id": "a12d6a83",
   "metadata": {},
   "source": [
    "# 2019 Sex Ratios¶"
   ]
  },
  {
   "cell_type": "code",
   "execution_count": null,
   "id": "2d4c7253",
   "metadata": {},
   "outputs": [],
   "source": [
    "us_pop_2019 = "
   ]
  },
  {
   "cell_type": "code",
   "execution_count": null,
   "id": "d99b4e18",
   "metadata": {},
   "outputs": [],
   "source": [
    "all_ages = "
   ]
  },
  {
   "cell_type": "code",
   "execution_count": null,
   "id": "6c413c7d",
   "metadata": {},
   "outputs": [],
   "source": [
    "infants = "
   ]
  },
  {
   "cell_type": "code",
   "execution_count": null,
   "id": "d02ee08a",
   "metadata": {},
   "outputs": [],
   "source": []
  },
  {
   "cell_type": "code",
   "execution_count": null,
   "id": "f3c80131",
   "metadata": {},
   "outputs": [],
   "source": []
  },
  {
   "cell_type": "code",
   "execution_count": null,
   "id": "b489ee99",
   "metadata": {},
   "outputs": [],
   "source": [
    "f_to_m_ratios = \n",
    "\n",
    "ratios = "
   ]
  },
  {
   "cell_type": "code",
   "execution_count": null,
   "id": "6566c19a",
   "metadata": {},
   "outputs": [],
   "source": []
  },
  {
   "cell_type": "code",
   "execution_count": null,
   "id": "8ed2246b",
   "metadata": {},
   "outputs": [],
   "source": [
    "#Line Plots\n"
   ]
  }
 ],
 "metadata": {
  "kernelspec": {
   "display_name": "Python 3 (ipykernel)",
   "language": "python",
   "name": "python3"
  },
  "language_info": {
   "codemirror_mode": {
    "name": "ipython",
    "version": 3
   },
   "file_extension": ".py",
   "mimetype": "text/x-python",
   "name": "python",
   "nbconvert_exporter": "python",
   "pygments_lexer": "ipython3",
   "version": "3.11.5"
  }
 },
 "nbformat": 4,
 "nbformat_minor": 5
}
