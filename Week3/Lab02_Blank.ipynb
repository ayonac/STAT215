{
 "cells": [
  {
   "cell_type": "raw",
   "id": "cell-lab02-0",
   "metadata": {
    "vscode": {
     "languageId": "raw"
    }
   },
   "source": [
    "# ASSIGNMENT CONFIG\n",
    "config_file: ../../../assign_config.yml\n",
    "files:\n",
    "    - farmers_markets.csv\n",
    "    - imdb.csv\n",
    "    - statement.png\n",
    "    - world_population.csv\n",
    "    - shah_katsu.png\n",
    "export_cell:\n",
    "    pdf: false"
   ]
  },
  {
   "cell_type": "markdown",
   "id": "cell-lab02-1",
   "metadata": {},
   "source": [
    "# Lab 2: Table Operations\n",
    "\n",
    "In this lab, we'll learn how to import a module and practice table operations. The [Python Reference](https://www.data8.org/reference/) has information that will be useful for this lab.\n",
    "\n",
    "**Recommended Reading**:\n",
    " * [Introduction to Tables](https://www.inferentialthinking.com/chapters/03/4/Introduction_to_Tables)\n",
    "\n",
    "\n",
    "**Submission**: Remember to submit the downloaded pdf file, that includes your code and out.\n",
    "\n",
    "Let's begin by setting up the tests and imports by running the cell below."
   ]
  },
  {
   "cell_type": "code",
   "execution_count": null,
   "id": "cell-lab02-2",
   "metadata": {
    "execution": {
     "iopub.execute_input": "2022-01-24T23:01:28.002167Z",
     "iopub.status.busy": "2022-01-24T23:01:28.001055Z",
     "iopub.status.idle": "2022-01-24T23:01:29.739020Z",
     "shell.execute_reply": "2022-01-24T23:01:29.739446Z"
    }
   },
   "outputs": [],
   "source": [
    "# Don't change this cell; just run it. \n",
    "\n",
    "import numpy as np\n",
    "from datascience import *"
   ]
  },
  {
   "cell_type": "markdown",
   "id": "cell-lab02-3",
   "metadata": {},
   "source": [
    "# 1. Review: The Building Blocks of Python Code\n",
    "\n",
    "The two building blocks of Python code are *expressions* and *statements*.  An **expression** is a piece of code that\n",
    "\n",
    "* is self-contained, meaning it would make sense to write it on a line by itself, and\n",
    "* usually evaluates to a value.\n",
    "\n",
    "\n",
    "Here are two expressions that both evaluate to 3:\n",
    "\n",
    "    3\n",
    "    5 - 2\n",
    "    \n",
    "One important type of expression is the **call expression**. A call expression begins with the name of a function and is followed by the argument(s) of that function in parentheses. The function returns some value, based on its arguments. Some important mathematical functions are listed below.\n",
    "\n",
    "| Function | Description                                                   |\n",
    "|----------|---------------------------------------------------------------|\n",
    "| `abs`      | Returns the absolute value of its argument                    |\n",
    "| `max`      | Returns the maximum of all its arguments                      |\n",
    "| `min`      | Returns the minimum of all its arguments                      |\n",
    "| `pow`      | Raises its first argument to the power of its second argument |\n",
    "| `round`    | Rounds its argument to the nearest integer                     |\n",
    "\n",
    "Here are two call expressions that both evaluate to 3:\n",
    "\n",
    "    abs(2 - 5)\n",
    "    max(round(2.8), min(pow(2, 10), -1 * pow(2, 10)))\n",
    "\n",
    "The expression `2 - 5` and the two call expressions given above are examples of **compound expressions**, meaning that they are actually combinations of several smaller expressions.  `2 - 5` combines the expressions `2` and `5` by subtraction.  In this case, `2` and `5` are called **subexpressions** because they're expressions that are part of a larger expression.\n",
    "\n",
    "A **statement** is a whole line of code.  Some statements are just expressions.  The expressions listed above are examples.\n",
    "\n",
    "Other statements *make something happen* rather than *having a value*. For example, an **assignment statement** assigns a value to a name. \n",
    "\n",
    "A good way to think about this is that we're **evaluating the right-hand side** of the equals sign and **assigning it to the left-hand side**. Here are some assignment statements:\n",
    "    \n",
    "    height = 1.3\n",
    "    the_number_five = abs(-5)\n",
    "    absolute_height_difference = abs(height - 1.688)\n",
    "\n",
    "An important idea in programming is that large, interesting things can be built by combining many simple, uninteresting things.  The key to understanding a complicated piece of code is breaking it down into its simple components.\n",
    "\n",
    "For example, a lot is going on in the last statement above, but it's really just a combination of a few things.  This picture describes what's going on.\n",
    "\n",
    "<img src=\"statement.png\">"
   ]
  },
  {
   "cell_type": "raw",
   "id": "cell-lab02-4",
   "metadata": {},
   "source": [
    "# BEGIN QUESTION\n",
    "name: q11"
   ]
  },
  {
   "cell_type": "markdown",
   "id": "cell-lab02-5",
   "metadata": {},
   "source": [
    "**Question 1.1.** In the next cell, assign the name `new_year` to the larger number among the following two numbers:\n",
    "\n",
    "* the **absolute value** of $2^{5}-2^{11}-2^1 + 1$, and \n",
    "* $5 \\times 13 \\times 31 + 7$.\n",
    "\n",
    "Try to use just one statement (one line of code). Be sure to check your work by executing the test cell afterward.\n"
   ]
  },
  {
   "cell_type": "code",
   "execution_count": null,
   "id": "cell-lab02-7",
   "metadata": {
    "deletable": false,
    "execution": {
     "iopub.execute_input": "2022-01-24T23:01:29.752009Z",
     "iopub.status.busy": "2022-01-24T23:01:29.750747Z",
     "iopub.status.idle": "2022-01-24T23:01:29.758127Z",
     "shell.execute_reply": "2022-01-24T23:01:29.757553Z"
    }
   },
   "outputs": [],
   "source": [
    "new_year = \n",
    "new_year"
   ]
  },
  {
   "cell_type": "raw",
   "id": "cell-lab02-12",
   "metadata": {},
   "source": [
    "# END QUESTION"
   ]
  },
  {
   "cell_type": "markdown",
   "id": "cell-lab02-13",
   "metadata": {},
   "source": [
    "We've asked you to use one line of code in the question above because it only involves mathematical operations. However, more complicated programming questions will more require more steps. It isn’t always a good idea to jam these steps into a single line because it can make the code harder to read and harder to debug.\n",
    "\n",
    "Good programming practice involves splitting up your code into smaller steps and using appropriate names. You'll have plenty of practice in the rest of this course!"
   ]
  },
  {
   "cell_type": "markdown",
   "id": "cell-lab02-14",
   "metadata": {},
   "source": [
    "# 2. Importing Code\n",
    "\n",
    "Most programming involves work that is very similar to work that has been done before.  Since writing code is time-consuming, it's good to rely on others' published code when you can.  Rather than copy-pasting, Python allows us to **import modules**. A module is a file with Python code that has defined variables and functions. By importing a module, we are able to use its code in our own notebook.\n",
    "\n",
    "Python includes many useful modules that are just an `import` away.  We'll look at the `math` module as a first example. The `math` module is extremely useful in computing mathematical expressions in Python. \n",
    "\n",
    "Suppose we want to very accurately compute the area of a circle with a radius of 5 meters.  For that, we need the constant $\\pi$, which is roughly 3.14.  Conveniently, the `math` module has `pi` defined for us. Run the following cell to import the math module:"
   ]
  },
  {
   "cell_type": "code",
   "execution_count": null,
   "id": "cell-lab02-15",
   "metadata": {
    "execution": {
     "iopub.execute_input": "2022-01-24T23:01:29.773712Z",
     "iopub.status.busy": "2022-01-24T23:01:29.772987Z",
     "iopub.status.idle": "2022-01-24T23:01:29.776186Z",
     "shell.execute_reply": "2022-01-24T23:01:29.776601Z"
    }
   },
   "outputs": [],
   "source": [
    "import math\n",
    "radius = 5\n",
    "area_of_circle = radius**2 * math.pi\n",
    "area_of_circle"
   ]
  },
  {
   "cell_type": "markdown",
   "id": "cell-lab02-16",
   "metadata": {},
   "source": [
    "In the code above, the line `import math` imports the math module. This statement creates a module and then assigns the name `math` to that module. We are now able to access any variables or functions defined within `math` by typing the name of the module followed by a dot, then followed by the name of the variable or function we want.\n",
    "\n",
    "    <module name>.<name>"
   ]
  },
  {
   "cell_type": "raw",
   "id": "cell-lab02-17",
   "metadata": {},
   "source": [
    "# BEGIN QUESTION\n",
    "name: q21"
   ]
  },
  {
   "cell_type": "markdown",
   "id": "cell-lab02-18",
   "metadata": {},
   "source": [
    "**Question 2.1.** The module `math` also provides the name `e` for the base of the natural logarithm, which is roughly 2.71. Compute $e^{\\pi}-\\pi$, giving it the name `near_twenty`. Round your answer to 4 decimal places. \n",
    "\n",
    "*Remember: You can access `pi` from the `math` module as well!*\n"
   ]
  },
  {
   "cell_type": "code",
   "execution_count": null,
   "id": "cell-lab02-20",
   "metadata": {
    "deletable": false,
    "execution": {
     "iopub.execute_input": "2022-01-24T23:01:29.782493Z",
     "iopub.status.busy": "2022-01-24T23:01:29.781917Z",
     "iopub.status.idle": "2022-01-24T23:01:29.785574Z",
     "shell.execute_reply": "2022-01-24T23:01:29.785023Z"
    }
   },
   "outputs": [],
   "source": [
    "near_twenty = \n",
    "near_twenty"
   ]
  },
  {
   "cell_type": "code",
   "execution_count": null,
   "id": "cell-lab02-23",
   "metadata": {
    "execution": {
     "iopub.execute_input": "2022-01-24T23:01:29.790705Z",
     "iopub.status.busy": "2022-01-24T23:01:29.790174Z",
     "iopub.status.idle": "2022-01-24T23:01:29.814003Z",
     "shell.execute_reply": "2022-01-24T23:01:29.814744Z"
    },
    "scrolled": true
   },
   "outputs": [],
   "source": []
  },
  {
   "cell_type": "raw",
   "id": "cell-lab02-25",
   "metadata": {},
   "source": [
    "# END QUESTION"
   ]
  },
  {
   "cell_type": "raw",
   "id": "cell-lab02-26",
   "metadata": {},
   "source": [
    "# BEGIN QUESTION\n",
    "name: q211"
   ]
  },
  {
   "cell_type": "markdown",
   "id": "cell-lab02-27",
   "metadata": {},
   "source": [
    "## 2.1. Accessing Functions\n",
    "\n",
    "In the question above, you accessed variables within the `math` module. \n",
    "\n",
    "**Modules** also define **functions**.  For example, `math` provides the name `floor` for the floor function.  Having imported `math` already, we can write `math.floor(7.5)` to compute the floor of 7.5.  (Note that the floor function returns the largest integer less than or equal to a given number.)\n",
    "\n",
    "**Question 2.1.1.** Compute the floor of pi using `floor` and `pi` from the `math` module.  Give the result the name `floor_of_pi`.\n"
   ]
  },
  {
   "cell_type": "code",
   "execution_count": null,
   "id": "cell-lab02-29",
   "metadata": {
    "deletable": false,
    "execution": {
     "iopub.execute_input": "2022-01-24T23:01:29.820549Z",
     "iopub.status.busy": "2022-01-24T23:01:29.820008Z",
     "iopub.status.idle": "2022-01-24T23:01:29.823442Z",
     "shell.execute_reply": "2022-01-24T23:01:29.822937Z"
    }
   },
   "outputs": [],
   "source": [
    "floor_of_pi = \n",
    "floor_of_pi"
   ]
  },
  {
   "cell_type": "raw",
   "id": "cell-lab02-34",
   "metadata": {},
   "source": [
    "# END QUESTION"
   ]
  },
  {
   "cell_type": "markdown",
   "id": "cell-lab02-35",
   "metadata": {},
   "source": [
    "For your reference, below are some more examples of functions from the `math` module.\n",
    "\n",
    "Notice how different functions take in different numbers of arguments. Often, the [documentation](https://docs.python.org/3/library/math.html) of the module will provide information on how many arguments are required for each function.\n",
    "\n",
    "*Hint: If you press `shift+tab` while next to the function call, the documentation for that function will appear.*"
   ]
  },
  {
   "cell_type": "code",
   "execution_count": null,
   "id": "cell-lab02-36",
   "metadata": {
    "execution": {
     "iopub.execute_input": "2022-01-24T23:01:29.839322Z",
     "iopub.status.busy": "2022-01-24T23:01:29.838729Z",
     "iopub.status.idle": "2022-01-24T23:01:29.841856Z",
     "shell.execute_reply": "2022-01-24T23:01:29.842259Z"
    }
   },
   "outputs": [],
   "source": [
    "# Calculating logarithms (the logarithm of 8 in base 2).\n",
    "# The result is 3 because 2 to the power of 3 is 8.\n",
    "math.log(8, 2)"
   ]
  },
  {
   "cell_type": "code",
   "execution_count": null,
   "id": "cell-lab02-37",
   "metadata": {
    "execution": {
     "iopub.execute_input": "2022-01-24T23:01:29.847211Z",
     "iopub.status.busy": "2022-01-24T23:01:29.846387Z",
     "iopub.status.idle": "2022-01-24T23:01:29.850242Z",
     "shell.execute_reply": "2022-01-24T23:01:29.850667Z"
    }
   },
   "outputs": [],
   "source": [
    "# Calculating square roots.\n",
    "math.sqrt(5)"
   ]
  },
  {
   "cell_type": "markdown",
   "id": "cell-lab02-38",
   "metadata": {},
   "source": [
    "There are various ways to import and access code from outside sources. The method we used above — `import <module_name>` — imports the entire module and requires that we use `<module_name>.<name>` to access its code. \n",
    "\n",
    "We can also import a specific constant or function instead of the entire module. Notice that you don't have to use the module name beforehand to reference that particular value. However, you do have to be careful about reassigning the names of the constants or functions to other values!"
   ]
  },
  {
   "cell_type": "code",
   "execution_count": null,
   "id": "cell-lab02-39",
   "metadata": {
    "execution": {
     "iopub.execute_input": "2022-01-24T23:01:29.856384Z",
     "iopub.status.busy": "2022-01-24T23:01:29.855757Z",
     "iopub.status.idle": "2022-01-24T23:01:29.859531Z",
     "shell.execute_reply": "2022-01-24T23:01:29.860057Z"
    }
   },
   "outputs": [],
   "source": [
    "# Importing just cos and pi from math.\n",
    "# We don't have to use `math.` in front of cos or pi\n",
    "from math import cos, pi\n",
    "print(cos(pi))\n",
    "\n",
    "# We do have to use it in front of other functions from math, though\n",
    "math.log(pi)"
   ]
  },
  {
   "cell_type": "markdown",
   "id": "cell-lab02-40",
   "metadata": {},
   "source": [
    "Or we can import every function and value from the entire module."
   ]
  },
  {
   "cell_type": "code",
   "execution_count": null,
   "id": "cell-lab02-41",
   "metadata": {
    "execution": {
     "iopub.execute_input": "2022-01-24T23:01:29.865351Z",
     "iopub.status.busy": "2022-01-24T23:01:29.864648Z",
     "iopub.status.idle": "2022-01-24T23:01:29.869285Z",
     "shell.execute_reply": "2022-01-24T23:01:29.868781Z"
    }
   },
   "outputs": [],
   "source": [
    "# Lastly, we can import everything from math using the *\n",
    "# Once again, we don't have to use 'math.' beforehand \n",
    "from math import *\n",
    "log(pi)"
   ]
  },
  {
   "cell_type": "markdown",
   "id": "cell-lab02-42",
   "metadata": {},
   "source": [
    "Don't worry too much about which type of import to use. It's often a coding style choice left up to each programmer. In this course, you'll always import the necessary modules when you run the setup cell (like the first code cell in this lab).\n",
    "\n",
    "Let's move on to practicing some of the table operations you've learned in lecture!"
   ]
  },
  {
   "cell_type": "markdown",
   "id": "cell-lab02-43",
   "metadata": {},
   "source": [
    "# 3. Table Operations\n",
    "\n",
    "The table `farmers_markets.csv` contains data on farmers' markets in the United States  (data associated with [the USDA](https://apps.ams.usda.gov/FarmersMarketsExport/ExcelExport.aspx)).  Each row represents one such market.\n",
    "\n",
    "Run the next cell to load the `farmers_markets` table. There will be no output -- no output is expected as the cell contains an assignment statement. An assignment statement does not produce any output (it does not yield any value)."
   ]
  },
  {
   "cell_type": "code",
   "execution_count": null,
   "id": "cell-lab02-44",
   "metadata": {
    "deletable": false,
    "execution": {
     "iopub.execute_input": "2022-01-24T23:01:29.874658Z",
     "iopub.status.busy": "2022-01-24T23:01:29.874042Z",
     "iopub.status.idle": "2022-01-24T23:01:30.189640Z",
     "shell.execute_reply": "2022-01-24T23:01:30.189066Z"
    }
   },
   "outputs": [],
   "source": [
    "# Just run this cell\n",
    "\n",
    "farmers_markets = Table.read_table('farmers_markets.csv')"
   ]
  },
  {
   "cell_type": "markdown",
   "id": "cell-lab02-45",
   "metadata": {},
   "source": [
    "Let's examine our table to see what data it contains.\n",
    "\n",
    "**Question 3.1.** Use the method `show` to display the first 5 rows of `farmers_markets`. \n",
    "\n",
    "*Note:* The terms \"method\" and \"function\" are technically not the same thing, but for the purposes of this course, we will use them interchangeably.\n",
    "\n",
    "**Hint:** `tbl.show(3)` will show the first 3 rows of the table named `tbl`. Additionally, make sure not to call `.show()` without an argument, as this will crash your kernel!\n"
   ]
  },
  {
   "cell_type": "code",
   "execution_count": null,
   "id": "cell-lab02-48",
   "metadata": {
    "deletable": false,
    "execution": {
     "iopub.execute_input": "2022-01-24T23:01:30.196903Z",
     "iopub.status.busy": "2022-01-24T23:01:30.196333Z",
     "iopub.status.idle": "2022-01-24T23:01:30.200221Z",
     "shell.execute_reply": "2022-01-24T23:01:30.200608Z"
    }
   },
   "outputs": [],
   "source": []
  },
  {
   "cell_type": "raw",
   "id": "cell-lab02-50",
   "metadata": {},
   "source": [
    "# END QUESTION"
   ]
  },
  {
   "cell_type": "raw",
   "id": "cell-lab02-51",
   "metadata": {},
   "source": [
    "# BEGIN QUESTION\n",
    "name: q32"
   ]
  },
  {
   "cell_type": "markdown",
   "id": "cell-lab02-52",
   "metadata": {},
   "source": [
    "Notice that some of the values in this table are missing, as denoted by \"nan.\" This means either that the value is not available (e.g. if we don’t know the market’s street address) or not applicable (e.g. if the market doesn’t have a street address). You'll also notice that the table has a large number of columns in it!\n",
    "\n",
    "### `num_columns`\n",
    "\n",
    "The table property `num_columns` returns the number of columns in a table. (A \"property\" is just a method that doesn't need to be called by adding parentheses.)\n",
    "\n",
    "Example call: `tbl.num_columns` will return the number of columns in a table called `tbl`\n",
    "\n",
    "**Question 3.2.** Use `num_columns` to find the number of columns in our farmers' markets dataset.\n",
    "\n",
    "Assign the number of columns to `num_farmers_markets_columns`.\n"
   ]
  },
  {
   "cell_type": "code",
   "execution_count": null,
   "id": "cell-lab02-54",
   "metadata": {
    "deletable": false,
    "execution": {
     "iopub.execute_input": "2022-01-24T23:01:30.210632Z",
     "iopub.status.busy": "2022-01-24T23:01:30.210007Z",
     "iopub.status.idle": "2022-01-24T23:01:30.213062Z",
     "shell.execute_reply": "2022-01-24T23:01:30.212553Z"
    }
   },
   "outputs": [],
   "source": []
  },
  {
   "cell_type": "code",
   "execution_count": null,
   "id": "cell-lab02-57",
   "metadata": {
    "execution": {
     "iopub.execute_input": "2022-01-24T23:01:30.217762Z",
     "iopub.status.busy": "2022-01-24T23:01:30.217172Z",
     "iopub.status.idle": "2022-01-24T23:01:30.221253Z",
     "shell.execute_reply": "2022-01-24T23:01:30.220686Z"
    },
    "scrolled": true
   },
   "outputs": [],
   "source": []
  },
  {
   "cell_type": "raw",
   "id": "cell-lab02-59",
   "metadata": {},
   "source": [
    "# END QUESTION"
   ]
  },
  {
   "cell_type": "markdown",
   "id": "cell-lab02-60",
   "metadata": {},
   "source": [
    "### `num_rows`\n",
    "\n",
    "Similarly, the property `num_rows` tells you how many rows are in a table."
   ]
  },
  {
   "cell_type": "code",
   "execution_count": null,
   "id": "cell-lab02-61",
   "metadata": {
    "deletable": false,
    "execution": {
     "iopub.execute_input": "2022-01-24T23:01:30.226746Z",
     "iopub.status.busy": "2022-01-24T23:01:30.225978Z",
     "iopub.status.idle": "2022-01-24T23:01:30.229272Z",
     "shell.execute_reply": "2022-01-24T23:01:30.229668Z"
    }
   },
   "outputs": [],
   "source": [
    "# Just run this cell\n",
    "\n",
    "num_farmers_markets_rows = farmers_markets.num_rows\n",
    "print(\"The table has\", num_farmers_markets_rows, \"rows in it!\")"
   ]
  },
  {
   "cell_type": "raw",
   "id": "cell-lab02-62",
   "metadata": {},
   "source": [
    "# BEGIN QUESTION\n",
    "name: q33"
   ]
  },
  {
   "cell_type": "markdown",
   "id": "cell-lab02-63",
   "metadata": {},
   "source": [
    "### `select`\n",
    "\n",
    "Most of the columns are about particular products -- whether the market sells tofu, pet food, etc.  If we're not interested in that information, it just makes the table difficult to read.  This comes up more than you might think, because people who collect and publish data may not know ahead of time what people will want to do with it.\n",
    "\n",
    "In such situations, we can use the table method `select` to choose only the columns that we want in a particular table. It takes any number of arguments. Each should be the name of a column in the table. It returns a new table with only those columns in it. The columns are in the order *in which they were listed as arguments*.\n",
    "\n",
    "For example, the value of `farmers_markets.select(\"MarketName\", \"State\")` is a table with only the name and the state of each farmers' market in `farmers_markets`.\n",
    "\n",
    "\n",
    "\n",
    "**Question 3.3.** Use `select` to create a table with only the name, city, state, latitude (`y`), and longitude (`x`) of each market.  Call that new table `farmers_markets_locations`.\n",
    "\n",
    "*Hint:* Make sure to be exact when using column names with `select`; double-check capitalization!\n"
   ]
  },
  {
   "cell_type": "code",
   "execution_count": null,
   "id": "cell-lab02-65",
   "metadata": {
    "deletable": false,
    "execution": {
     "iopub.execute_input": "2022-01-24T23:01:30.236633Z",
     "iopub.status.busy": "2022-01-24T23:01:30.233653Z",
     "iopub.status.idle": "2022-01-24T23:01:30.245331Z",
     "shell.execute_reply": "2022-01-24T23:01:30.244745Z"
    }
   },
   "outputs": [],
   "source": [
    "farmers_markets_locations = \n",
    "farmers_markets_locations"
   ]
  },
  {
   "cell_type": "code",
   "execution_count": null,
   "id": "cell-lab02-68",
   "metadata": {
    "execution": {
     "iopub.execute_input": "2022-01-24T23:01:30.250947Z",
     "iopub.status.busy": "2022-01-24T23:01:30.250291Z",
     "iopub.status.idle": "2022-01-24T23:01:30.254029Z",
     "shell.execute_reply": "2022-01-24T23:01:30.253511Z"
    }
   },
   "outputs": [],
   "source": []
  },
  {
   "cell_type": "code",
   "execution_count": null,
   "id": "cell-lab02-69",
   "metadata": {
    "execution": {
     "iopub.execute_input": "2022-01-24T23:01:30.259607Z",
     "iopub.status.busy": "2022-01-24T23:01:30.258777Z",
     "iopub.status.idle": "2022-01-24T23:01:30.262990Z",
     "shell.execute_reply": "2022-01-24T23:01:30.262480Z"
    }
   },
   "outputs": [],
   "source": []
  },
  {
   "cell_type": "raw",
   "id": "cell-lab02-71",
   "metadata": {},
   "source": [
    "# END QUESTION"
   ]
  },
  {
   "cell_type": "raw",
   "id": "cell-lab02-72",
   "metadata": {},
   "source": [
    "# BEGIN QUESTION\n",
    "name: q34"
   ]
  },
  {
   "cell_type": "markdown",
   "id": "cell-lab02-73",
   "metadata": {},
   "source": [
    "### `drop`\n",
    "\n",
    "`drop` serves the same purpose as `select`, but it takes away the columns that you provide rather than the ones that you don't provide. Like `select`, `drop` returns a new table.\n",
    "\n",
    "**Question 3.4.** Suppose you just didn't want the `FMID` and `updateTime` columns in `farmers_markets`.  Create a table that's a copy of `farmers_markets` but doesn't include those columns.  Call that table `farmers_markets_without_fmid`.\n"
   ]
  },
  {
   "cell_type": "code",
   "execution_count": null,
   "id": "cell-lab02-75",
   "metadata": {
    "deletable": false,
    "execution": {
     "iopub.execute_input": "2022-01-24T23:01:30.277576Z",
     "iopub.status.busy": "2022-01-24T23:01:30.266983Z",
     "iopub.status.idle": "2022-01-24T23:01:30.368958Z",
     "shell.execute_reply": "2022-01-24T23:01:30.368364Z"
    }
   },
   "outputs": [],
   "source": [
    "farmers_markets_without_fmid = \n",
    "farmers_markets_without_fmid"
   ]
  },
  {
   "cell_type": "code",
   "execution_count": null,
   "id": "cell-lab02-78",
   "metadata": {
    "execution": {
     "iopub.execute_input": "2022-01-24T23:01:30.373938Z",
     "iopub.status.busy": "2022-01-24T23:01:30.373354Z",
     "iopub.status.idle": "2022-01-24T23:01:30.377382Z",
     "shell.execute_reply": "2022-01-24T23:01:30.377871Z"
    }
   },
   "outputs": [],
   "source": []
  },
  {
   "cell_type": "code",
   "execution_count": null,
   "id": "cell-lab02-79",
   "metadata": {
    "execution": {
     "iopub.execute_input": "2022-01-24T23:01:30.382680Z",
     "iopub.status.busy": "2022-01-24T23:01:30.382023Z",
     "iopub.status.idle": "2022-01-24T23:01:30.384772Z",
     "shell.execute_reply": "2022-01-24T23:01:30.385235Z"
    }
   },
   "outputs": [],
   "source": []
  },
  {
   "cell_type": "raw",
   "id": "cell-lab02-81",
   "metadata": {},
   "source": [
    "# END QUESTION"
   ]
  },
  {
   "cell_type": "markdown",
   "id": "cell-lab02-82",
   "metadata": {},
   "source": [
    "Now, suppose we want to answer some questions about farmers' markets in the US. For example, which market(s) have the largest longitude (given by the `x` column)? \n",
    "\n",
    "To answer this, we'll sort `farmers_markets_locations` by longitude.Complete the code below, make sure to sort largest to smallest. "
   ]
  },
  {
   "cell_type": "code",
   "execution_count": null,
   "id": "cell-lab02-83",
   "metadata": {
    "execution": {
     "iopub.execute_input": "2022-01-24T23:01:30.390105Z",
     "iopub.status.busy": "2022-01-24T23:01:30.389552Z",
     "iopub.status.idle": "2022-01-24T23:01:30.417843Z",
     "shell.execute_reply": "2022-01-24T23:01:30.417220Z"
    }
   },
   "outputs": [],
   "source": []
  },
  {
   "cell_type": "raw",
   "id": "cell-lab02-86",
   "metadata": {},
   "source": [
    "# BEGIN QUESTION\n",
    "name: q35"
   ]
  },
  {
   "cell_type": "markdown",
   "id": "cell-lab02-87",
   "metadata": {},
   "source": [
    "(The `descending=True` bit is called an *optional argument*. It has a default value of `False`, so when you explicitly tell the function `descending=True`, then the function will sort in descending order.)\n",
    "\n",
    "### `sort`\n",
    "\n",
    "Some details about sort:\n",
    "\n",
    "1. The first argument to `sort` is the name of a column to sort by.\n",
    "2. If the column has text in it, `sort` will sort alphabetically; if the column has numbers, it will sort numerically - both in ascending order by default.\n",
    "3. The value of `farmers_markets_locations.sort(\"x\")` is a *copy* of `farmers_markets_locations`; the `farmers_markets_locations` table doesn't get modified. For example, if we called `farmers_markets_locations.sort(\"x\")`, then running `farmers_markets_locations` by itself would still return the unsorted table.\n",
    "4. Rows always stick together when a table is sorted.  It wouldn't make sense to sort just one column and leave the other columns alone.  For example, in this case, if we sorted just the `x` column, the farmers' markets would all end up with the wrong longitudes.\n",
    "\n",
    "**Question 3.5.** Create a version of `farmers_markets_locations` that's sorted by **latitude (`y`)**, with the largest latitudes first.  Call it `farmers_markets_locations_by_latitude`.\n"
   ]
  },
  {
   "cell_type": "code",
   "execution_count": null,
   "id": "cell-lab02-89",
   "metadata": {
    "deletable": false,
    "execution": {
     "iopub.execute_input": "2022-01-24T23:01:30.441224Z",
     "iopub.status.busy": "2022-01-24T23:01:30.440274Z",
     "iopub.status.idle": "2022-01-24T23:01:30.453479Z",
     "shell.execute_reply": "2022-01-24T23:01:30.452727Z"
    },
    "scrolled": true
   },
   "outputs": [],
   "source": [
    "farmers_markets_locations_by_latitude = "
   ]
  },
  {
   "cell_type": "code",
   "execution_count": null,
   "id": "cell-lab02-92",
   "metadata": {
    "execution": {
     "iopub.execute_input": "2022-01-24T23:01:30.459612Z",
     "iopub.status.busy": "2022-01-24T23:01:30.458714Z",
     "iopub.status.idle": "2022-01-24T23:01:30.462219Z",
     "shell.execute_reply": "2022-01-24T23:01:30.462882Z"
    }
   },
   "outputs": [],
   "source": []
  },
  {
   "cell_type": "code",
   "execution_count": null,
   "id": "cell-lab02-93",
   "metadata": {
    "execution": {
     "iopub.execute_input": "2022-01-24T23:01:30.469142Z",
     "iopub.status.busy": "2022-01-24T23:01:30.468236Z",
     "iopub.status.idle": "2022-01-24T23:01:30.472592Z",
     "shell.execute_reply": "2022-01-24T23:01:30.471703Z"
    }
   },
   "outputs": [],
   "source": []
  },
  {
   "cell_type": "raw",
   "id": "cell-lab02-95",
   "metadata": {},
   "source": [
    "# END QUESTION"
   ]
  },
  {
   "cell_type": "markdown",
   "id": "cell-lab02-96",
   "metadata": {},
   "source": [
    "Now let's say we want a table of all farmers' markets in California. Sorting won't help us much here because California  is closer to the middle of the dataset.\n",
    "\n",
    "Instead, we use the table method `where`."
   ]
  },
  {
   "cell_type": "code",
   "execution_count": null,
   "id": "cell-lab02-97",
   "metadata": {
    "deletable": false,
    "execution": {
     "iopub.execute_input": "2022-01-24T23:01:30.517660Z",
     "iopub.status.busy": "2022-01-24T23:01:30.516710Z",
     "iopub.status.idle": "2022-01-24T23:01:30.523461Z",
     "shell.execute_reply": "2022-01-24T23:01:30.522645Z"
    }
   },
   "outputs": [],
   "source": [
    "california_farmers_markets = farmers_markets_locations.where('State', are.equal_to('California'))\n",
    "california_farmers_markets"
   ]
  },
  {
   "cell_type": "markdown",
   "id": "cell-lab02-98",
   "metadata": {},
   "source": [
    "Ignore the syntax for the moment.  Instead, try to read that line like this:\n",
    "\n",
    "> Assign the name **`california_farmers_markets`** to a table whose rows are the rows in the **`farmers_markets_locations`** table **`where`** the **`\"State\"`** **`are equal to` `\"California\"`**."
   ]
  },
  {
   "cell_type": "markdown",
   "id": "cell-lab02-99",
   "metadata": {},
   "source": [
    "### `where`\n",
    "\n",
    "Now let's dive into the details a bit more.  `where` takes 2 arguments:\n",
    "\n",
    "1. The name of a column.  `where` finds rows where that column's values meet some criterion.\n",
    "2. A predicate that describes the criterion that the column needs to meet.\n",
    "\n",
    "The predicate in the example above called the function `are.equal_to` with the value we wanted, 'California'.  We'll see other predicates soon.\n",
    "\n",
    "`where` returns a table that's a copy of the original table, but **with only the rows that meet the given predicate**."
   ]
  },
  {
   "cell_type": "raw",
   "id": "cell-lab02-100",
   "metadata": {},
   "source": [
    "# BEGIN QUESTION\n",
    "name: q36"
   ]
  },
  {
   "cell_type": "markdown",
   "id": "cell-lab02-101",
   "metadata": {},
   "source": [
    "**Question 3.6.** Use `california_farmers_markets` to create a table called `berkeley_markets` containing farmers' markets in Berkeley, California."
   ]
  },
  {
   "cell_type": "code",
   "execution_count": null,
   "id": "cell-lab02-103",
   "metadata": {
    "deletable": false,
    "execution": {
     "iopub.execute_input": "2022-01-24T23:01:30.531885Z",
     "iopub.status.busy": "2022-01-24T23:01:30.531041Z",
     "iopub.status.idle": "2022-01-24T23:01:30.535021Z",
     "shell.execute_reply": "2022-01-24T23:01:30.534280Z"
    }
   },
   "outputs": [],
   "source": [
    "berkeley_markets = "
   ]
  },
  {
   "cell_type": "code",
   "execution_count": null,
   "id": "cell-lab02-106",
   "metadata": {
    "execution": {
     "iopub.execute_input": "2022-01-24T23:01:30.540158Z",
     "iopub.status.busy": "2022-01-24T23:01:30.539530Z",
     "iopub.status.idle": "2022-01-24T23:01:30.544032Z",
     "shell.execute_reply": "2022-01-24T23:01:30.543470Z"
    }
   },
   "outputs": [],
   "source": []
  },
  {
   "cell_type": "code",
   "execution_count": null,
   "id": "cell-lab02-107",
   "metadata": {
    "execution": {
     "iopub.execute_input": "2022-01-24T23:01:30.549075Z",
     "iopub.status.busy": "2022-01-24T23:01:30.548490Z",
     "iopub.status.idle": "2022-01-24T23:01:30.553013Z",
     "shell.execute_reply": "2022-01-24T23:01:30.552365Z"
    }
   },
   "outputs": [],
   "source": []
  },
  {
   "cell_type": "raw",
   "id": "cell-lab02-109",
   "metadata": {},
   "source": [
    "# END QUESTION"
   ]
  },
  {
   "cell_type": "markdown",
   "id": "cell-lab02-110",
   "metadata": {},
   "source": [
    "So far we've only been using `where` with the predicate that requires finding the values in a column to be *exactly* equal to a certain value. However, there are many other predicates. Here are a few:\n",
    "\n",
    "|Predicate|Example|Result|\n",
    "|-|-|-|\n",
    "|`are.equal_to`|`are.equal_to(50)`|Find rows with values equal to 50|\n",
    "|`are.not_equal_to`|`are.not_equal_to(50)`|Find rows with values not equal to 50|\n",
    "|`are.above`|`are.above(50)`|Find rows with values above (and not equal to) 50|\n",
    "|`are.above_or_equal_to`|`are.above_or_equal_to(50)`|Find rows with values above 50 or equal to 50|\n",
    "|`are.below`|`are.below(50)`|Find rows with values below 50|\n",
    "|`are.between`|`are.between(2, 10)`|Find rows with values above or equal to 2 and below 10|\n",
    "|`are.between_or_equal_to`|`are.between_or_equal_to(2, 10)`|Find rows with values above or equal to 2 and below or equal to 10|"
   ]
  },
  {
   "cell_type": "markdown",
   "id": "cell-lab02-111",
   "metadata": {},
   "source": [
    "## 4. Analyzing a dataset\n",
    "\n",
    "Now that you're familiar with table operations, let’s answer an interesting question about a dataset!\n",
    "\n",
    "Run the cell below to load the `imdb` table. It contains information about the 250 highest-rated movies on IMDb."
   ]
  },
  {
   "cell_type": "code",
   "execution_count": null,
   "id": "cell-lab02-112",
   "metadata": {
    "deletable": false,
    "execution": {
     "iopub.execute_input": "2022-01-24T23:01:30.559408Z",
     "iopub.status.busy": "2022-01-24T23:01:30.558489Z",
     "iopub.status.idle": "2022-01-24T23:01:30.568489Z",
     "shell.execute_reply": "2022-01-24T23:01:30.568911Z"
    },
    "scrolled": true
   },
   "outputs": [],
   "source": [
    "# Just run this cell\n",
    "\n",
    "imdb = Table.read_table('imdb.csv')\n",
    "imdb"
   ]
  },
  {
   "cell_type": "markdown",
   "id": "cell-lab02-113",
   "metadata": {},
   "source": [
    "Often, we want to perform multiple operations - sorting, filtering, or others - in order to turn a table we have into something more useful. You can do these operations one by one, e.g.\n",
    "\n",
    "```\n",
    "first_step = original_tbl.where(“col1”, are.equal_to(12))\n",
    "second_step = first_step.sort(‘col2’, descending=True)\n",
    "```\n",
    "\n",
    "However, since the value of the expression `original_tbl.where(“col1”, are.equal_to(12))` is itself a table, you can just call a table method on it:\n",
    "\n",
    "```\n",
    "original_tbl.where(“col1”, are.equal_to(12)).sort(‘col2’, descending=True)\n",
    "```\n",
    "You should organize your work in the way that makes the most sense to you, using informative names for any intermediate tables you create. "
   ]
  },
  {
   "cell_type": "raw",
   "id": "cell-lab02-114",
   "metadata": {},
   "source": [
    "# BEGIN QUESTION\n",
    "name: q41"
   ]
  },
  {
   "cell_type": "markdown",
   "id": "cell-lab02-115",
   "metadata": {},
   "source": [
    "**Question 4.1.** Create a table of movies released between 2010 and 2015 (inclusive) with ratings above 8. The table should only contain the columns `Title` and `Rating`, **in that order**.\n",
    "\n",
    "Assign the table to the name `above_eight`.\n",
    "\n",
    "*Hint:* Think about the steps you need to take, and try to put them in an order that make sense. Feel free to create intermediate tables for each step, but please make sure you assign your final table the name `above_eight`!\n"
   ]
  },
  {
   "cell_type": "code",
   "execution_count": null,
   "id": "cell-lab02-117",
   "metadata": {
    "deletable": false,
    "execution": {
     "iopub.execute_input": "2022-01-24T23:01:30.578244Z",
     "iopub.status.busy": "2022-01-24T23:01:30.577652Z",
     "iopub.status.idle": "2022-01-24T23:01:30.609679Z",
     "shell.execute_reply": "2022-01-24T23:01:30.581364Z"
    }
   },
   "outputs": [],
   "source": []
  },
  {
   "cell_type": "code",
   "execution_count": null,
   "id": "cell-lab02-120",
   "metadata": {
    "execution": {
     "iopub.execute_input": "2022-01-24T23:01:30.615403Z",
     "iopub.status.busy": "2022-01-24T23:01:30.614781Z",
     "iopub.status.idle": "2022-01-24T23:01:30.618458Z",
     "shell.execute_reply": "2022-01-24T23:01:30.618901Z"
    }
   },
   "outputs": [],
   "source": []
  },
  {
   "cell_type": "code",
   "execution_count": null,
   "id": "cell-lab02-121",
   "metadata": {
    "execution": {
     "iopub.execute_input": "2022-01-24T23:01:30.623588Z",
     "iopub.status.busy": "2022-01-24T23:01:30.622981Z",
     "iopub.status.idle": "2022-01-24T23:01:30.626487Z",
     "shell.execute_reply": "2022-01-24T23:01:30.626024Z"
    }
   },
   "outputs": [],
   "source": []
  },
  {
   "cell_type": "code",
   "execution_count": null,
   "id": "cell-lab02-122",
   "metadata": {
    "execution": {
     "iopub.execute_input": "2022-01-24T23:01:30.631569Z",
     "iopub.status.busy": "2022-01-24T23:01:30.631008Z",
     "iopub.status.idle": "2022-01-24T23:01:30.634451Z",
     "shell.execute_reply": "2022-01-24T23:01:30.633895Z"
    }
   },
   "outputs": [],
   "source": [
    "# Make sure your columns are in the right order!\n",
    "# First column should be 'Title', second column should be 'Rating'\n"
   ]
  },
  {
   "cell_type": "raw",
   "id": "cell-lab02-124",
   "metadata": {},
   "source": [
    "# END QUESTION"
   ]
  },
  {
   "cell_type": "raw",
   "id": "cell-lab02-125",
   "metadata": {},
   "source": [
    "# BEGIN QUESTION\n",
    "name: q42"
   ]
  },
  {
   "cell_type": "markdown",
   "id": "cell-lab02-126",
   "metadata": {},
   "source": [
    "**Question 4.2.** Use `num_rows` (and arithmetic) to find the *proportion* of movies in the dataset that were released 1900-1999, and the *proportion* of movies in the dataset that were released in the year 2000 or later.\n",
    "\n",
    "Assign `proportion_in_20th_century` to the proportion of movies in the dataset that were released 1900-1999, and `proportion_in_21st_century` to the proportion of movies in the dataset that were released in the year 2000 or later.\n",
    "\n",
    "*Hint:* The *proportion* of movies released in the 1900's is the *number* of movies released in the 1900's, divided by the *total number* of movies.\n"
   ]
  },
  {
   "cell_type": "code",
   "execution_count": null,
   "id": "cell-lab02-128",
   "metadata": {
    "deletable": false,
    "execution": {
     "iopub.execute_input": "2022-01-24T23:01:30.642375Z",
     "iopub.status.busy": "2022-01-24T23:01:30.639831Z",
     "iopub.status.idle": "2022-01-24T23:01:30.646015Z",
     "shell.execute_reply": "2022-01-24T23:01:30.645479Z"
    }
   },
   "outputs": [],
   "source": []
  },
  {
   "cell_type": "raw",
   "id": "cell-lab02-134",
   "metadata": {},
   "source": [
    "# END QUESTION"
   ]
  },
  {
   "cell_type": "markdown",
   "id": "cell-lab02-135",
   "metadata": {},
   "source": [
    "## 5. Summary\n",
    "\n",
    "For your reference, here's a table of all the functions and methods we saw in this lab. We'll learn more methods to add to this table in the coming week!\n",
    "\n",
    "|Name|Example|Purpose|\n",
    "|-|-|-|\n",
    "|`sort`|`tbl.sort(\"N\")`|Create a copy of a table sorted by the values in a column|\n",
    "|`where`|`tbl.where(\"N\", are.above(2))`|Create a copy of a table with only the rows that match some *predicate*|\n",
    "|`num_rows`|`tbl.num_rows`|Compute the number of rows in a table|\n",
    "|`num_columns`|`tbl.num_columns`|Compute the number of columns in a table|\n",
    "|`select`|`tbl.select(\"N\")`|Create a copy of a table with only some of the columns|\n",
    "|`drop`|`tbl.drop(\"N\")`|Create a copy of a table without some of the columns|"
   ]
  }
 ],
 "metadata": {
  "kernelspec": {
   "display_name": "Python 3 (ipykernel)",
   "language": "python",
   "name": "python3"
  },
  "language_info": {
   "codemirror_mode": {
    "name": "ipython",
    "version": 3
   },
   "file_extension": ".py",
   "mimetype": "text/x-python",
   "name": "python",
   "nbconvert_exporter": "python",
   "pygments_lexer": "ipython3",
   "version": "3.11.5"
  }
 },
 "nbformat": 4,
 "nbformat_minor": 5
}
