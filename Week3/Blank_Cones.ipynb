{
 "cells": [
  {
   "cell_type": "code",
   "execution_count": null,
   "id": "b077df40",
   "metadata": {},
   "outputs": [],
   "source": [
    "import numpy as np\n",
    "import matplotlib.pyplot as plots\n",
    "%matplotlib inline\n",
    "plots.style.use('fivethirtyeight')\n",
    "from datascience import *"
   ]
  },
  {
   "cell_type": "markdown",
   "id": "d8fae6c6",
   "metadata": {},
   "source": [
    "# Cones data"
   ]
  },
  {
   "cell_type": "code",
   "execution_count": null,
   "id": "b1d714ad",
   "metadata": {},
   "outputs": [],
   "source": [
    "cones = "
   ]
  },
  {
   "cell_type": "code",
   "execution_count": null,
   "id": "10ad9483",
   "metadata": {},
   "outputs": [],
   "source": []
  },
  {
   "cell_type": "code",
   "execution_count": null,
   "id": "ffcd1afc",
   "metadata": {},
   "outputs": [],
   "source": []
  },
  {
   "cell_type": "code",
   "execution_count": null,
   "id": "44f2ee86",
   "metadata": {},
   "outputs": [],
   "source": [
    "partial_cones = "
   ]
  },
  {
   "cell_type": "code",
   "execution_count": null,
   "id": "3f35aa76",
   "metadata": {},
   "outputs": [],
   "source": []
  },
  {
   "cell_type": "markdown",
   "id": "e5ea43a5",
   "metadata": {},
   "source": [
    "Notice that.select and .drop in the previous cells give the same output."
   ]
  },
  {
   "cell_type": "code",
   "execution_count": null,
   "id": "c7fb6825",
   "metadata": {},
   "outputs": [],
   "source": [
    "# Suppose I want to choose all rows that correspond to chocolate ice cream\n"
   ]
  }
 ],
 "metadata": {
  "kernelspec": {
   "display_name": "Python 3 (ipykernel)",
   "language": "python",
   "name": "python3"
  },
  "language_info": {
   "codemirror_mode": {
    "name": "ipython",
    "version": 3
   },
   "file_extension": ".py",
   "mimetype": "text/x-python",
   "name": "python",
   "nbconvert_exporter": "python",
   "pygments_lexer": "ipython3",
   "version": "3.11.5"
  }
 },
 "nbformat": 4,
 "nbformat_minor": 5
}
